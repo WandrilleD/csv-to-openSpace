{
 "cells": [
  {
   "cell_type": "markdown",
   "metadata": {},
   "source": [
    "## Step 0 : configure some ouput options\n",
    "\n",
    "this operation will result in multiple files. Things will be tidier if you have a common output folder and prefix for all of them."
   ]
  },
  {
   "cell_type": "code",
   "execution_count": 25,
   "metadata": {},
   "outputs": [],
   "source": [
    "OUTPUT_FOLDER = 'output/'\n",
    "OUTPUT_PREFIX = 'toy_data'"
   ]
  },
  {
   "cell_type": "markdown",
   "metadata": {},
   "source": [
    "## step 1 : read in your csv data\n",
    "\n",
    "The idea is that you get a table with the first 3 columns corresponding to the X Y Z positions you want for your points.\n",
    "\n",
    "The other columns will be used as metadata (for example, as a coloring option in the GUI)."
   ]
  },
  {
   "cell_type": "code",
   "execution_count": 17,
   "metadata": {},
   "outputs": [
    {
     "data": {
      "text/html": [
       "<div>\n",
       "<style scoped>\n",
       "    .dataframe tbody tr th:only-of-type {\n",
       "        vertical-align: middle;\n",
       "    }\n",
       "\n",
       "    .dataframe tbody tr th {\n",
       "        vertical-align: top;\n",
       "    }\n",
       "\n",
       "    .dataframe thead th {\n",
       "        text-align: right;\n",
       "    }\n",
       "</style>\n",
       "<table border=\"1\" class=\"dataframe\">\n",
       "  <thead>\n",
       "    <tr style=\"text-align: right;\">\n",
       "      <th></th>\n",
       "      <th>PC_1</th>\n",
       "      <th>PC_2</th>\n",
       "      <th>PC_3</th>\n",
       "      <th>cell_line</th>\n",
       "      <th>KRT81</th>\n",
       "      <th>MT1E</th>\n",
       "      <th>SAA1</th>\n",
       "      <th>GAGE12D</th>\n",
       "      <th>SEC61G</th>\n",
       "    </tr>\n",
       "  </thead>\n",
       "  <tbody>\n",
       "    <tr>\n",
       "      <th>Lib90_00000</th>\n",
       "      <td>8.349043</td>\n",
       "      <td>6.108142</td>\n",
       "      <td>-18.230019</td>\n",
       "      <td>HCC827</td>\n",
       "      <td>6</td>\n",
       "      <td>1</td>\n",
       "      <td>1</td>\n",
       "      <td>1</td>\n",
       "      <td>1200</td>\n",
       "    </tr>\n",
       "    <tr>\n",
       "      <th>Lib90_00002</th>\n",
       "      <td>-15.823000</td>\n",
       "      <td>13.018068</td>\n",
       "      <td>-0.204499</td>\n",
       "      <td>H838</td>\n",
       "      <td>5</td>\n",
       "      <td>0</td>\n",
       "      <td>0</td>\n",
       "      <td>167</td>\n",
       "      <td>32</td>\n",
       "    </tr>\n",
       "    <tr>\n",
       "      <th>Lib90_00003</th>\n",
       "      <td>9.062575</td>\n",
       "      <td>5.572152</td>\n",
       "      <td>-17.977929</td>\n",
       "      <td>HCC827</td>\n",
       "      <td>3</td>\n",
       "      <td>1</td>\n",
       "      <td>13</td>\n",
       "      <td>0</td>\n",
       "      <td>884</td>\n",
       "    </tr>\n",
       "    <tr>\n",
       "      <th>Lib90_00004</th>\n",
       "      <td>6.777374</td>\n",
       "      <td>5.176689</td>\n",
       "      <td>-19.057121</td>\n",
       "      <td>HCC827</td>\n",
       "      <td>0</td>\n",
       "      <td>1</td>\n",
       "      <td>6</td>\n",
       "      <td>1</td>\n",
       "      <td>1018</td>\n",
       "    </tr>\n",
       "    <tr>\n",
       "      <th>Lib90_00005</th>\n",
       "      <td>7.199729</td>\n",
       "      <td>7.374359</td>\n",
       "      <td>-14.528045</td>\n",
       "      <td>HCC827</td>\n",
       "      <td>1</td>\n",
       "      <td>0</td>\n",
       "      <td>1</td>\n",
       "      <td>1</td>\n",
       "      <td>998</td>\n",
       "    </tr>\n",
       "  </tbody>\n",
       "</table>\n",
       "</div>"
      ],
      "text/plain": [
       "                  PC_1       PC_2       PC_3 cell_line  KRT81  MT1E  SAA1  \\\n",
       "Lib90_00000   8.349043   6.108142 -18.230019    HCC827      6     1     1   \n",
       "Lib90_00002 -15.823000  13.018068  -0.204499      H838      5     0     0   \n",
       "Lib90_00003   9.062575   5.572152 -17.977929    HCC827      3     1    13   \n",
       "Lib90_00004   6.777374   5.176689 -19.057121    HCC827      0     1     6   \n",
       "Lib90_00005   7.199729   7.374359 -14.528045    HCC827      1     0     1   \n",
       "\n",
       "             GAGE12D  SEC61G  \n",
       "Lib90_00000        1    1200  \n",
       "Lib90_00002      167      32  \n",
       "Lib90_00003        0     884  \n",
       "Lib90_00004        1    1018  \n",
       "Lib90_00005        1     998  "
      ]
     },
     "execution_count": 17,
     "metadata": {},
     "output_type": "execute_result"
    }
   ],
   "source": [
    "import pandas as pd\n",
    "\n",
    "df = pd.read_table(\"toyData/test_sc_data.txt\", sep=\" \", index_col=0)\n",
    "df.head()"
   ]
  },
  {
   "cell_type": "markdown",
   "metadata": {},
   "source": [
    "# step 2 : extract labels\n",
    "\n",
    "Labels are handled in separate files + the metadata columns should only contain numeric columns\n",
    "\n",
    "Here, I list the label-containing columns"
   ]
  },
  {
   "cell_type": "code",
   "execution_count": 18,
   "metadata": {},
   "outputs": [],
   "source": [
    "label_columns = [\"cell_line\"]\n",
    "\n",
    "\n",
    "non_label_columns = [ c for c in df.columns[3:] if not c in label_columns  ]"
   ]
  },
  {
   "cell_type": "markdown",
   "metadata": {},
   "source": [
    "Now, I create a new numeric column based-off of each label columns. \n",
    "\n",
    "This is not mandatory, but this be used to give me the option to color by label, which I want to have."
   ]
  },
  {
   "cell_type": "code",
   "execution_count": 19,
   "metadata": {},
   "outputs": [],
   "source": [
    "## let's keep the correspondences between original labels and their number-ID\n",
    "label_columns_eq_table = {}\n",
    "\n",
    "## we also track which columns we have added\n",
    "label_columns_int_cols = []\n",
    "\n",
    "for col in label_columns:\n",
    "    label_columns_eq_table[col] = {s:i for i,s in  enumerate( df[col].unique() ) }\n",
    "        \n",
    "    df[col+\"_int\"] = df[col].replace( label_columns_eq_table[col] )\n",
    "    label_columns_int_cols.append(col+\"_int\")"
   ]
  },
  {
   "cell_type": "markdown",
   "metadata": {},
   "source": [
    "## step 3 : writing the speck file\n",
    "\n",
    "The speck file contains the X Y Z positions of each of our points + additionnal metadata columns\n",
    "\n",
    "\n",
    "I begin by defining some (optional) description for the columns"
   ]
  },
  {
   "cell_type": "code",
   "execution_count": 20,
   "metadata": {},
   "outputs": [],
   "source": [
    "column_description= {'KRT81':'raw expression value for gene KRT81', \n",
    "                     'MT1E':'raw expression value for gene MT1E', \n",
    "                     'SAA1':'raw expression value for gene SAA1', \n",
    "                     'GAGE12D':'raw expression value for gene GAGE12D', \n",
    "                     'SEC61G':'raw expression value for gene SEC61G'}"
   ]
  },
  {
   "cell_type": "markdown",
   "metadata": {},
   "source": [
    "Then automatically complement this with info on the transformed label columns:"
   ]
  },
  {
   "cell_type": "code",
   "execution_count": 22,
   "metadata": {},
   "outputs": [],
   "source": [
    "for col in label_columns_int_cols:\n",
    "    origin_col = col[:-4]\n",
    "    column_description[col]=\"from column \"+origin_col \n",
    "    \n",
    "    # go from int to labels (so then we can give them in order...)\n",
    "    reverse_labels = {v:k for k,v in label_columns_eq_table[origin_col].items() }\n",
    "    for i in range(len(reverse_labels)):\n",
    "        column_description[col]+=\", {}:{}\".format(i,reverse_labels[i])    "
   ]
  },
  {
   "cell_type": "code",
   "execution_count": 23,
   "metadata": {},
   "outputs": [
    {
     "data": {
      "text/plain": [
       "{'KRT81': 'raw expression value for gene KRT81',\n",
       " 'MT1E': 'raw expression value for gene MT1E',\n",
       " 'SAA1': 'raw expression value for gene SAA1',\n",
       " 'GAGE12D': 'raw expression value for gene GAGE12D',\n",
       " 'SEC61G': 'raw expression value for gene SEC61G',\n",
       " 'cell_line_int': 'from column cell_line, 0:HCC827, 1:H838, 2:H1975, 3:H2228, 4:A549'}"
      ]
     },
     "execution_count": 23,
     "metadata": {},
     "output_type": "execute_result"
    }
   ],
   "source": [
    "column_description"
   ]
  },
  {
   "cell_type": "code",
   "execution_count": 26,
   "metadata": {},
   "outputs": [],
   "source": [
    "## make a view of the table without the label columns\n",
    "dft = df.drop(columns=label_columns)\n",
    "\n",
    "\n",
    "with open(OUTPUT_FOLDER + OUTPUT_PREFIX + '.speck','w') as OUT:\n",
    "    for i,col in enumerate( dft.columns[3:] ):\n",
    "        print(\"datavar {} {} # {}\".format(i,col, column_description.get(col,'')) , file=OUT )\n",
    "    dft.to_csv( OUT , sep=' ' , index=False , header=False)"
   ]
  },
  {
   "cell_type": "code",
   "execution_count": 28,
   "metadata": {},
   "outputs": [],
   "source": [
    "# !head -n 20 output/toy_data.speck"
   ]
  },
  {
   "cell_type": "markdown",
   "metadata": {},
   "source": [
    "# step 4 : creating the labels files\n",
    "\n",
    "There needs to be 1 file per label.\n"
   ]
  },
  {
   "cell_type": "code",
   "execution_count": 34,
   "metadata": {},
   "outputs": [
    {
     "name": "stdout",
     "output_type": "stream",
     "text": [
      "wrote label cell_line in file output/toy_data.cell_line.label\n"
     ]
    }
   ],
   "source": [
    "dft = df\n",
    "dft['text'] = 'text' # this \"text\" column is used in the file format  \n",
    "\n",
    "# these we will keep around\n",
    "XYZcols = list( dft.columns[:3] )\n",
    "\n",
    "for col in label_columns:\n",
    "    dft2 = dft.loc[: , XYZcols + [ 'text', col]]\n",
    "    file_name = OUTPUT_FOLDER + OUTPUT_PREFIX +'.'+col+\".label\"\n",
    "    \n",
    "    with open(file_name,'w') as OUT:\n",
    "        print('textcolor 1',file=OUT)\n",
    "        dft2.to_csv( OUT , sep=' ' , index=False , header=False)\n",
    "        \n",
    "    print('wrote label {} in file {}'.format(col,file_name))"
   ]
  },
  {
   "cell_type": "code",
   "execution_count": 36,
   "metadata": {},
   "outputs": [],
   "source": [
    "# !head output/toy_data.cell_line.label"
   ]
  },
  {
   "cell_type": "markdown",
   "metadata": {},
   "source": [
    "# step 5: configure an asset file\n",
    "\n",
    "Part 1 of the file : definition and files"
   ]
  },
  {
   "cell_type": "code",
   "execution_count": 60,
   "metadata": {},
   "outputs": [],
   "source": [
    "preamble = \"\"\"\n",
    "-- Scale factor --\n",
    "local scale = 50\n",
    "\n",
    "\n",
    "local texture = asset.localResource(\"point3A.png\")\n",
    "local color_map_file = asset.localResource(\"test.cmap\")\n",
    "\n",
    "\"\"\"\n",
    "speck_file_def = \"\"\"-- Speck files --\n",
    "local speck_file = asset.localResource(\"{}.speck\")\n",
    "\"\"\".format(OUTPUT_PREFIX + '.speck')\n",
    "\n",
    "label_files_def = \"-- Label files --\\n\"\n",
    "for col in label_columns:\n",
    "    label_files_def += 'local label_file_{} = asset.localResource(\"{}.label\")'.format(col , OUTPUT_PREFIX +'.'+col)"
   ]
  },
  {
   "cell_type": "markdown",
   "metadata": {},
   "source": [
    "part 2 of the file, define the asset"
   ]
  },
  {
   "cell_type": "code",
   "execution_count": 61,
   "metadata": {},
   "outputs": [],
   "source": [
    "    \n",
    "asset_def = \"\"\"\n",
    "local {} = {{\n",
    "  Identifier = \"{}\",\"\"\".format(OUTPUT_PREFIX,OUTPUT_PREFIX) \n",
    "asset_def+= \"\"\"  Renderable = {\n",
    "    Type = \"RenderableCosmicPoints\",\n",
    "    Color = { 1, 0.067, 0.161 },\n",
    "    Opacity = 1.0,\n",
    "    ScaleFactor = scale,\n",
    "    File = speck_file,\n",
    "    ColorMap = color_map_file,\"\"\""
   ]
  },
  {
   "cell_type": "code",
   "execution_count": 62,
   "metadata": {},
   "outputs": [],
   "source": [
    "## color options : by default I create 1 option per metadata columns\n",
    "asset_def+= \"ColorOption = { \" +' , '.join([\"'{}'\".format(c) for c in non_label_columns+label_columns_int_cols ]) + \" },\\n\"\n",
    "\n",
    "\n",
    "rangeTexts = []\n",
    "## the color ranges depend on the columns range\n",
    "for c in non_label_columns+label_columns_int_cols:\n",
    "    m = df[c].min()\n",
    "    M = df[c].max()\n",
    "    rangeTexts.append('{{ {} , {} }}'.format(m,M))\n",
    "    \n",
    "    \n",
    "asset_def+= \"ColorRange = { \" + ' , '.join(rangeTexts) + '},\\n'\n"
   ]
  },
  {
   "cell_type": "code",
   "execution_count": 63,
   "metadata": {},
   "outputs": [],
   "source": [
    "## here using the first label columns :\n",
    "if len(label_columns)>0:\n",
    "    asset_def+= \"    LabelFile = {} ,\\n\".format(OUTPUT_PREFIX +'.'+ label_columns[0] +\".label\")\n",
    "    "
   ]
  },
  {
   "cell_type": "code",
   "execution_count": 64,
   "metadata": {},
   "outputs": [
    {
     "name": "stdout",
     "output_type": "stream",
     "text": [
      "\n",
      "local toy_data = {\n",
      "  Identifier = \"toy_data\",  Renderable = {\n",
      "    Type = \"RenderableCosmicPoints\",\n",
      "    Color = { 1, 0.067, 0.161 },\n",
      "    Opacity = 1.0,\n",
      "    ScaleFactor = scale,\n",
      "    File = speck_file,\n",
      "    ColorMap = color_map_file,ColorOption = { 'KRT81' , 'MT1E' , 'SAA1' , 'GAGE12D' , 'SEC61G' , 'cell_line_int' },\n",
      "ColorRange = { { 0 , 861 } , { 0 , 386 } , { 0 , 398 } , { 0 , 173 } , { 0 , 2024 } , { 0 , 4 }},\n",
      "    LabelFile = toy_data.cell_line.label ,\n",
      "    Unit = \"Km\",\n",
      "    Texture = texture,\n",
      "    BillboardMinMaxSize = { 0.0, 250.0 }, -- in pixels\n",
      "    EnablePixelSizeControl = true,\n",
      "    Enabled = false\n",
      "  },  GUI = {\n",
      "    Name = \"toy_data\",\n",
      "    Path = \"/toy_data\"\n",
      "  }\n",
      "}\n",
      "\n"
     ]
    }
   ],
   "source": [
    "asset_def+=\"\"\"    Unit = \"Km\",\n",
    "    Texture = texture,\n",
    "    BillboardMinMaxSize = { 0.0, 250.0 }, -- in pixels\n",
    "    EnablePixelSizeControl = true,\n",
    "    Enabled = false\n",
    "  },\"\"\"\n",
    "\n",
    "asset_def+=\"\"\"  GUI = {{\n",
    "    Name = \"{}\",\n",
    "    Path = \"/{}\"\n",
    "  }}\n",
    "}}\n",
    "\"\"\".format(OUTPUT_PREFIX,OUTPUT_PREFIX)\n",
    "\n",
    "print(asset_def)"
   ]
  },
  {
   "cell_type": "code",
   "execution_count": 65,
   "metadata": {},
   "outputs": [],
   "source": [
    "final_part = \"\"\"\n",
    "  asset.onInitialize(function()\n",
    "    openspace.addSceneGraphNode({0})\n",
    "    end)\n",
    "\n",
    "asset.onDeinitialize(function()\n",
    "    openspace.removeSceneGraphNode({0})\n",
    "end)\n",
    "\"\"\".format(OUTPUT_PREFIX)"
   ]
  },
  {
   "cell_type": "code",
   "execution_count": 66,
   "metadata": {},
   "outputs": [],
   "source": [
    "with open( OUTPUT_FOLDER + OUTPUT_PREFIX + \".asset\" , 'w' ) as OUT:\n",
    "    print(preamble , file=OUT)\n",
    "    print(speck_file_def , file=OUT)\n",
    "    print(label_files_def , file=OUT)\n",
    "    print(asset_def , file=OUT)\n",
    "    print(final_part , file=OUT)\n",
    "\n",
    "    "
   ]
  },
  {
   "cell_type": "code",
   "execution_count": 67,
   "metadata": {},
   "outputs": [
    {
     "name": "stdout",
     "output_type": "stream",
     "text": [
      "\r\n",
      "-- Scale factor --\r\n",
      "local scale = 50\r\n",
      "\r\n",
      "\r\n",
      "local texture = asset.localResource(\"point3A.png\")\r\n",
      "local color_map_file = asset.localResource(\"test.cmap\")\r\n",
      "\r\n",
      "\r\n",
      "-- Speck files --\r\n",
      "local speck_file = asset.localResource(\"toy_data.speck.speck\")\r\n",
      "\r\n",
      "-- Label files --\r\n",
      "local label_file_cell_line = asset.localResource(\"toy_data.cell_line.label\")\r\n",
      "\r\n",
      "local toy_data = {\r\n",
      "  Identifier = \"toy_data\",  Renderable = {\r\n",
      "    Type = \"RenderableCosmicPoints\",\r\n",
      "    Color = { 1, 0.067, 0.161 },\r\n",
      "    Opacity = 1.0,\r\n",
      "    ScaleFactor = scale,\r\n",
      "    File = speck_file,\r\n",
      "    ColorMap = color_map_file,ColorOption = { 'KRT81' , 'MT1E' , 'SAA1' , 'GAGE12D' , 'SEC61G' , 'cell_line_int' },\r\n",
      "ColorRange = { { 0 , 861 } , { 0 , 386 } , { 0 , 398 } , { 0 , 173 } , { 0 , 2024 } , { 0 , 4 }},\r\n",
      "    LabelFile = toy_data.cell_line.label ,\r\n",
      "    Unit = \"Km\",\r\n",
      "    Texture = texture,\r\n",
      "    BillboardMinMaxSize = { 0.0, 250.0 }, -- in pixels\r\n",
      "    EnablePixelSizeControl = true,\r\n",
      "    Enabled = false\r\n",
      "  },  GUI = {\r\n",
      "    Name = \"toy_data\",\r\n",
      "    Path = \"/toy_data\"\r\n",
      "  }\r\n",
      "}\r\n",
      "\r\n",
      "\r\n",
      "  asset.onInitialize(function()\r\n",
      "    openspace.addSceneGraphNode(toy_data)\r\n",
      "    end)\r\n",
      "\r\n",
      "asset.onDeinitialize(function()\r\n",
      "    openspace.removeSceneGraphNode(toy_data)\r\n",
      "end)\r\n",
      "\r\n"
     ]
    }
   ],
   "source": [
    "!cat output/toy_data.asset"
   ]
  },
  {
   "cell_type": "markdown",
   "metadata": {},
   "source": [
    "## step 6 copy some resource file to the output folder\n",
    "\n",
    "this will simplify the configuration of the asset file"
   ]
  },
  {
   "cell_type": "code",
   "execution_count": 68,
   "metadata": {},
   "outputs": [
    {
     "data": {
      "text/plain": [
       "'output/point3A.png'"
      ]
     },
     "execution_count": 68,
     "metadata": {},
     "output_type": "execute_result"
    }
   ],
   "source": [
    "import shutil\n",
    "\n",
    "shutil.copy('resources/test.cmap', OUTPUT_FOLDER)\n",
    "shutil.copy('resources/point3A.png', OUTPUT_FOLDER)"
   ]
  },
  {
   "cell_type": "markdown",
   "metadata": {},
   "source": [
    "Checking the content of the output folder :"
   ]
  },
  {
   "cell_type": "code",
   "execution_count": 69,
   "metadata": {},
   "outputs": [
    {
     "data": {
      "text/plain": [
       "['toy_data.asset',\n",
       " 'point3A.png',\n",
       " 'toy_data.cell_line.label',\n",
       " 'toy_data.speck',\n",
       " 'test.cmap']"
      ]
     },
     "execution_count": 69,
     "metadata": {},
     "output_type": "execute_result"
    }
   ],
   "source": [
    "import os\n",
    "os.listdir(OUTPUT_FOLDER)"
   ]
  }
 ],
 "metadata": {
  "kernelspec": {
   "display_name": "Environment (conda_py38)",
   "language": "python",
   "name": "conda_py38"
  },
  "language_info": {
   "codemirror_mode": {
    "name": "ipython",
    "version": 3
   },
   "file_extension": ".py",
   "mimetype": "text/x-python",
   "name": "python",
   "nbconvert_exporter": "python",
   "pygments_lexer": "ipython3",
   "version": "3.8.8"
  }
 },
 "nbformat": 4,
 "nbformat_minor": 2
}
